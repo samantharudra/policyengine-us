{
  "nbformat": 4,
  "nbformat_minor": 0,
  "metadata": {
    "colab": {
      "provenance": [],
      "include_colab_link": true
    },
    "kernelspec": {
      "name": "python3",
      "display_name": "Python 3"
    },
    "language_info": {
      "name": "python"
    }
  },
  "cells": [
    {
      "cell_type": "markdown",
      "metadata": {
        "id": "view-in-github",
        "colab_type": "text"
      },
      "source": [
        "<a href=\"https://colab.research.google.com/github/samantharudra/policyengine-us/blob/master/PolicyEngine_US.ipynb\" target=\"_parent\"><img src=\"https://colab.research.google.com/assets/colab-badge.svg\" alt=\"Open In Colab\"/></a>"
      ]
    },
    {
      "cell_type": "markdown",
      "source": [
        "# PolicyEngine US\n",
        "\n",
        "Use this notebook to run the PolicyEngine US microsimulation model for custom reforms or outputs.\n",
        "\n",
        "It's recommended to use the snippet generation features in the PolicyEngine web app for getting started."
      ],
      "metadata": {
        "id": "iZL8ACBYLSeg"
      }
    },
    {
      "cell_type": "code",
      "execution_count": 1,
      "metadata": {
        "id": "BFQzrPcaLQHZ"
      },
      "outputs": [],
      "source": [
        "%%capture\n",
        "!pip install policyengine-us"
      ]
    },
    {
      "cell_type": "code",
      "source": [
        "from policyengine_us import Microsimulation\n",
        "from policyengine_core.reforms import Reform\n",
        "\n",
        "reform = Reform.from_dict({\n",
        "  \"gov.states.ca.tax.income.exemptions.dependent_amount\": {\n",
        "    \"2024-01-01.2100-12-31\": 0\n",
        "  },\n",
        "  \"gov.states.il.tax.income.exemption.dependent\": {\n",
        "    \"2024-01-01.2100-12-31\": 0\n",
        "  },\n",
        "  \"gov.states.in.tax.income.exemptions.additional.amount\": {\n",
        "    \"2024-01-01.2100-12-31\": 0\n",
        "  },\n",
        "  \"gov.states.ks.tax.income.exemptions.by_filing_status.dependent\": {\n",
        "    \"2024-01-01.2100-12-31\": 0\n",
        "  },\n",
        "  \"gov.states.la.tax.income.exemptions.dependent\": {\n",
        "    \"2024-01-01.2100-12-31\": 0\n",
        "  },\n",
        "  \"gov.states.mn.tax.income.exemptions.amount\": {\n",
        "    \"2024-01-01.2100-12-31\": 0\n",
        "  },\n",
        "  \"gov.states.mo.tax.income.minimum_taxable_income\": {\n",
        "    \"2024-01-01.2100-12-31\": 0\n",
        "  },\n",
        "  \"gov.states.nj.tax.income.exemptions.dependents.amount\": {\n",
        "    \"2024-01-01.2100-12-31\": 0\n",
        "  },\n",
        "  \"gov.states.ny.tax.income.exemptions.dependent\": {\n",
        "    \"2024-01-01.2100-12-31\": 0\n",
        "  }\n",
        "}, country_id=\"us\")\n",
        "\n",
        "\n",
        "baseline = Microsimulation()\n",
        "reformed = Microsimulation(reform=reform)\n",
        "baseline_income = baseline.calculate(\"household_net_income\", period=2024)\n",
        "reformed_income = reformed.calculate(\"household_net_income\", period=2024)\n",
        "difference_income = reformed_income - baseline_income\n",
        "\n",
        "baseline_income"
      ],
      "metadata": {
        "id": "ePl00VPKSgju"
      },
      "execution_count": null,
      "outputs": []
    }
  ]
}